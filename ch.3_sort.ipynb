{
 "cells": [
  {
   "cell_type": "markdown",
   "metadata": {},
   "source": [
    "## Insertion Sort 安定なソート 最大O(N^2) 綺麗な配列では高速"
   ]
  },
  {
   "cell_type": "code",
   "execution_count": 1,
   "metadata": {
    "collapsed": false
   },
   "outputs": [],
   "source": [
    "def insertionSort(A, N):\n",
    "    for i in range(1, N):\n",
    "        v = A[i]\n",
    "        j = i - 1\n",
    "        while j >= 0 and A[j] > v:\n",
    "            A[j + 1] = A[j]\n",
    "            j -=  1\n",
    "        A[j + 1] = v\n",
    "        print(i, A)"
   ]
  },
  {
   "cell_type": "code",
   "execution_count": 2,
   "metadata": {
    "collapsed": false
   },
   "outputs": [],
   "source": [
    "def insertionSortRev(A, N):\n",
    "    for i in range(N - 2, -1, -1):\n",
    "        v = A[i]\n",
    "        j = i + 1\n",
    "        while j < N and A[j] > v:\n",
    "            A[j - 1] = A[j]\n",
    "            j += 1\n",
    "        A[j - 1] = v\n",
    "        print(i, A)"
   ]
  },
  {
   "cell_type": "code",
   "execution_count": 3,
   "metadata": {
    "collapsed": false
   },
   "outputs": [
    {
     "name": "stdout",
     "output_type": "stream",
     "text": [
      "1 [2, 5, 6, 3, 1]\n",
      "2 [2, 5, 6, 3, 1]\n",
      "3 [2, 3, 5, 6, 1]\n",
      "4 [1, 2, 3, 5, 6]\n"
     ]
    }
   ],
   "source": [
    "A = [2, 5, 6, 3, 1]\n",
    "insertionSort(A, len(A))\n",
    "#print(A)"
   ]
  },
  {
   "cell_type": "code",
   "execution_count": 4,
   "metadata": {
    "collapsed": false
   },
   "outputs": [
    {
     "name": "stdout",
     "output_type": "stream",
     "text": [
      "3 [2, 5, 6, 3, 1]\n",
      "2 [2, 5, 6, 3, 1]\n",
      "1 [2, 6, 5, 3, 1]\n",
      "0 [6, 5, 3, 2, 1]\n"
     ]
    }
   ],
   "source": [
    "A = [2, 5, 6, 3, 1]\n",
    "insertionSortRev(A, len(A))"
   ]
  },
  {
   "cell_type": "markdown",
   "metadata": {},
   "source": [
    "## Bubble Sort 安定なソート"
   ]
  },
  {
   "cell_type": "code",
   "execution_count": 5,
   "metadata": {
    "collapsed": true
   },
   "outputs": [],
   "source": [
    "def bubbleSort(A, N):\n",
    "    print('orgin', A)\n",
    "    flag = True\n",
    "    cnt = 0 # 交換回数\n",
    "    i = 0 # 未ソート部分列の先頭index\n",
    "    while flag:\n",
    "        flag = False\n",
    "        for j in range(N - 1, i, -1):\n",
    "            if A[j ] < A[j - 1]:\n",
    "                A[j], A[j-1] = A[j-1], A[j]\n",
    "                cnt +=1\n",
    "                flag = True\n",
    "                print(A)\n",
    "        i += 1\n",
    "    print('change cnt:', cnt)"
   ]
  },
  {
   "cell_type": "code",
   "execution_count": 14,
   "metadata": {
    "collapsed": true
   },
   "outputs": [],
   "source": [
    "def bubbleSortRev(A, N):\n",
    "    print('origin', A)\n",
    "    flag = True\n",
    "    cnt = 0\n",
    "    i = 0\n",
    "    while flag:\n",
    "        flag = False\n",
    "        for j in range(N-1, i, -1):\n",
    "            if A[j] > A[j -1]:\n",
    "                A[j], A[j - 1] = A[j - 1], A[j]\n",
    "                cnt += 1\n",
    "                flag = True\n",
    "                print(A)\n",
    "        i += 1\n",
    "    print(cnt)"
   ]
  },
  {
   "cell_type": "code",
   "execution_count": 15,
   "metadata": {
    "collapsed": false,
    "scrolled": true
   },
   "outputs": [
    {
     "name": "stdout",
     "output_type": "stream",
     "text": [
      "orgin [5, 3, 2, 4, 1]\n",
      "[5, 3, 2, 1, 4]\n",
      "[5, 3, 1, 2, 4]\n",
      "[5, 1, 3, 2, 4]\n",
      "[1, 5, 3, 2, 4]\n",
      "[1, 5, 2, 3, 4]\n",
      "[1, 2, 5, 3, 4]\n",
      "[1, 2, 3, 5, 4]\n",
      "[1, 2, 3, 4, 5]\n",
      "change cnt: 8\n"
     ]
    }
   ],
   "source": [
    "A = [5, 3, 2, 4, 1]\n",
    "bubbleSort(A, len(A))"
   ]
  },
  {
   "cell_type": "code",
   "execution_count": 16,
   "metadata": {
    "collapsed": false
   },
   "outputs": [
    {
     "name": "stdout",
     "output_type": "stream",
     "text": [
      "origin [5, 3, 2, 4, 1]\n",
      "[5, 3, 4, 2, 1]\n",
      "[5, 4, 3, 2, 1]\n",
      "2\n"
     ]
    }
   ],
   "source": [
    "A = [5, 3, 2, 4, 1]\n",
    "bubbleSortRev(A, len(A))"
   ]
  },
  {
   "cell_type": "markdown",
   "metadata": {},
   "source": [
    "## Selection Sort 安定なソートではない"
   ]
  },
  {
   "cell_type": "code",
   "execution_count": 27,
   "metadata": {
    "collapsed": true
   },
   "outputs": [],
   "source": [
    "def selectionSort(A, N):\n",
    "    print('origin', A)\n",
    "    cnt = 0\n",
    "    for i in range(0, N):\n",
    "        minj = i\n",
    "        for j in range(i, N):\n",
    "            if A[j] < A[minj]:\n",
    "                minj = j\n",
    "        if minj != i:\n",
    "            A[i], A[minj] = A[minj], A[i]\n",
    "            cnt += 1\n",
    "            print(A)\n",
    "    print(cnt)"
   ]
  },
  {
   "cell_type": "code",
   "execution_count": 31,
   "metadata": {
    "collapsed": true
   },
   "outputs": [],
   "source": [
    "def selectionSortRev(A, N):\n",
    "    print('origin', A)\n",
    "    cnt = 0\n",
    "    for i in range(0, N):\n",
    "        maxj = i\n",
    "        for j in range(i, N):\n",
    "            if A[j] > A[maxj]:\n",
    "                maxj = j\n",
    "        if maxj != i:\n",
    "            A[i], A[maxj] = A[maxj], A[i]\n",
    "            cnt += 1\n",
    "            print(A)\n",
    "    print(cnt)\n",
    "        "
   ]
  },
  {
   "cell_type": "code",
   "execution_count": 32,
   "metadata": {
    "collapsed": false
   },
   "outputs": [
    {
     "name": "stdout",
     "output_type": "stream",
     "text": [
      "origin [5, 6, 4, 2, 1, 3]\n",
      "[1, 6, 4, 2, 5, 3]\n",
      "[1, 2, 4, 6, 5, 3]\n",
      "[1, 2, 3, 6, 5, 4]\n",
      "[1, 2, 3, 4, 5, 6]\n",
      "4\n"
     ]
    }
   ],
   "source": [
    "A = [5, 6, 4, 2, 1, 3]\n",
    "selectionSort(A, len(A))"
   ]
  },
  {
   "cell_type": "code",
   "execution_count": 33,
   "metadata": {
    "collapsed": false
   },
   "outputs": [
    {
     "name": "stdout",
     "output_type": "stream",
     "text": [
      "origin [5, 6, 4, 2, 1, 3]\n",
      "[6, 5, 4, 2, 1, 3]\n",
      "[6, 5, 4, 3, 1, 2]\n",
      "[6, 5, 4, 3, 2, 1]\n",
      "3\n"
     ]
    }
   ],
   "source": [
    "A = [5, 6, 4, 2, 1, 3]\n",
    "selectionSortRev(A, len(A))"
   ]
  },
  {
   "cell_type": "markdown",
   "metadata": {},
   "source": [
    "## 3.5 Check Stable Sort"
   ]
  },
  {
   "cell_type": "code",
   "execution_count": 145,
   "metadata": {
    "collapsed": false
   },
   "outputs": [],
   "source": [
    "class Card:\n",
    "    def __init__(self, char, num):\n",
    "        self.char = char\n",
    "        self.num = int(num)\n",
    "\n",
    "def bubbleSort(A, N):\n",
    "    #print('origin', [A[i].num for i in range(N)])\n",
    "    i = 0\n",
    "    flag = True\n",
    "    while flag:\n",
    "        flag = False\n",
    "        for j in range(N - 1, i, -1):\n",
    "            if A[j].num < A[j - 1].num:\n",
    "                A[j], A[j - 1] = A[j-1], A[j]\n",
    "                flag = True\n",
    "                #print([A[i].num for i in range(N)])\n",
    "        i += 0\n",
    "        \n",
    "def selectionSort(A, N):\n",
    "    #print('origin', [A[i].num for i in range(N)])\n",
    "    for i in range(0,N):\n",
    "        minj = i\n",
    "        for j in range(i, N):\n",
    "            if A[j].num < A[minj].num:\n",
    "                minj = j\n",
    "        if minj != i:\n",
    "            A[i], A[minj] = A[minj], A[i]\n",
    "            #print([A[i].num for i in range(N)])\n",
    "            \n",
    "def isStable(inp, out, N):\n",
    "    for i in range(N):\n",
    "        for j in range(i + 1, N):\n",
    "            for a in range(N):\n",
    "                for b in range(a + 1, N):\n",
    "                    if inp[i].num == inp[j].num and inp[i].char == out[b].char and  inp[j].char == out[a].char:\n",
    "                        #print(i,j,a,b)\n",
    "                        return False\n",
    "    return True\n",
    "\n",
    "def isStableByBubble(A1, A2, N):\n",
    "    for i in range(N):\n",
    "        if A1[i].char != A2[i].char:\n",
    "            return False\n",
    "    return True\n",
    "\n",
    "def disp(A, N):\n",
    "    print([A[i].char + str(A[i].num) for i in range(N)])\n",
    "        "
   ]
  },
  {
   "cell_type": "code",
   "execution_count": 146,
   "metadata": {
    "collapsed": false
   },
   "outputs": [
    {
     "name": "stdout",
     "output_type": "stream",
     "text": [
      "['D2', 'C3', 'H4', 'S4', 'C9']\n",
      "True\n",
      "['D2', 'C3', 'S4', 'H4', 'C9']\n",
      "False\n"
     ]
    }
   ],
   "source": [
    "N = 5\n",
    "A = ['H4', 'C9', 'S4', 'D2', 'C3']\n",
    "\n",
    "cards = []\n",
    "for i in range(N):\n",
    "    cards.append(Card(A[i][0], A[i][1]))\n",
    "\n",
    "import copy\n",
    "cardsBubble = copy.deepcopy(cards)\n",
    "cardsSelection = copy.deepcopy(cards)\n",
    "\n",
    "bubbleSort(cardsBubble, len(cardsBubble))\n",
    "disp(cardsBubble, len(cardsBubble))\n",
    "print(isStable(cards, cardsBubble, len(cards)))\n",
    "\n",
    "selectionSort(cardsSelection, len(cardsSelection))\n",
    "disp(cardsSelection, len(cardsSelection))\n",
    "#print(isStable(cards, cardsSelection, len(cards)))\n",
    "print(isStableByBubble(cardsBubble, cardsSelection, len(cards)))\n"
   ]
  },
  {
   "cell_type": "markdown",
   "metadata": {},
   "source": [
    "## Shell Sort"
   ]
  },
  {
   "cell_type": "code",
   "execution_count": null,
   "metadata": {
    "collapsed": true
   },
   "outputs": [],
   "source": []
  }
 ],
 "metadata": {
  "anaconda-cloud": {},
  "kernelspec": {
   "display_name": "Python [conda root]",
   "language": "python",
   "name": "conda-root-py"
  },
  "language_info": {
   "codemirror_mode": {
    "name": "ipython",
    "version": 3
   },
   "file_extension": ".py",
   "mimetype": "text/x-python",
   "name": "python",
   "nbconvert_exporter": "python",
   "pygments_lexer": "ipython3",
   "version": "3.5.2"
  }
 },
 "nbformat": 4,
 "nbformat_minor": 1
}

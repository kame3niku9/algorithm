{
 "cells": [
  {
   "cell_type": "markdown",
   "metadata": {},
   "source": [
    "## 7.1 マージソート"
   ]
  },
  {
   "cell_type": "code",
   "execution_count": 3,
   "metadata": {
    "collapsed": false
   },
   "outputs": [],
   "source": [
    "def merge(A, left, mid, right, c):\n",
    "    n1 = mid - left\n",
    "    n2 = right - mid\n",
    "    L = [0 for _ in range(n1+1)]\n",
    "    R = [0 for _ in range(n2+1)]\n",
    "    for i in range(n1):\n",
    "        L[i] = A[left + i]\n",
    "    for i in range(n2):\n",
    "        R[i] = A[mid + i]\n",
    "    L[n1] = float('inf')\n",
    "    R[n2] = float('inf')\n",
    "    i = 0; j=0\n",
    "    for k in range(left, right):\n",
    "        c.append('*')\n",
    "        if L[i] <= R[j]:\n",
    "            A[k] = L[i]\n",
    "            i += 1\n",
    "        else:\n",
    "            A[k] = R[j]\n",
    "            j += 1\n",
    "    return c\n",
    "            \n",
    "def mergeSort(A, left, right, c):\n",
    "    if left + 1 < right:\n",
    "        mid = int((left + right) / 2)\n",
    "        mergeSort(A, left, mid, c)\n",
    "        mergeSort(A, mid, right, c)\n",
    "        merge(A, left, mid, right, c)  \n",
    "    return c"
   ]
  },
  {
   "cell_type": "code",
   "execution_count": 8,
   "metadata": {
    "collapsed": false
   },
   "outputs": [],
   "source": [
    "n = 10\n",
    "S=[8, 5, 9, 2, 6, 3, 7, 1, 10, 4]\n",
    "c = []\n",
    "c = mergeSort(S, 0, n, c)"
   ]
  },
  {
   "cell_type": "code",
   "execution_count": 9,
   "metadata": {
    "collapsed": false
   },
   "outputs": [
    {
     "name": "stdout",
     "output_type": "stream",
     "text": [
      "[1, 2, 3, 4, 5, 6, 7, 8, 9, 10]\n",
      "34\n"
     ]
    }
   ],
   "source": [
    "print(S)\n",
    "print(len(c))"
   ]
  },
  {
   "cell_type": "markdown",
   "metadata": {
    "collapsed": false
   },
   "source": [
    "## 7.2 パーティション O(n)"
   ]
  },
  {
   "cell_type": "code",
   "execution_count": 41,
   "metadata": {
    "collapsed": true
   },
   "outputs": [],
   "source": [
    "def partition(A, p , r):\n",
    "    x = A[r]\n",
    "    i = p - 1\n",
    "    #print('x:', x)\n",
    "    for j in range(p, r):\n",
    "        #print(A[j])\n",
    "        if A[j] <= x:\n",
    "            #print('low')\n",
    "            i += 1\n",
    "            A[i], A[j] = A[j], A[i]\n",
    "            #print('i:', i, 'j:', j, A)\n",
    "    A[i+1], A[r] = A[r], A[i+1]\n",
    "    return A, i+1\n",
    "    "
   ]
  },
  {
   "cell_type": "code",
   "execution_count": 42,
   "metadata": {
    "collapsed": false,
    "scrolled": true
   },
   "outputs": [
    {
     "name": "stdout",
     "output_type": "stream",
     "text": [
      "9 5 8 7 4 2 6 [11] 21 13 19 12"
     ]
    }
   ],
   "source": [
    "n = 12\n",
    "A = [13, 19, 9, 5, 12, 8, 7, 4, 21, 2, 6, 11]\n",
    "\n",
    "A, index = partition(A,0,11)\n",
    "\n",
    "for i in range(n):\n",
    "    if i == index:\n",
    "        print('[' + str(A[i]) + ']', end=' ')\n",
    "    elif i == n-1:\n",
    "        print(A[i], end='')\n",
    "    else:\n",
    "        print(A[i], end=' ')"
   ]
  },
  {
   "cell_type": "markdown",
   "metadata": {},
   "source": [
    "# 7.3 クイックソート"
   ]
  },
  {
   "cell_type": "code",
   "execution_count": 43,
   "metadata": {
    "collapsed": true
   },
   "outputs": [],
   "source": [
    "def quickSort(A, p, r):\n",
    "    if p < r:\n",
    "        A, q = partition(A, p, r)\n",
    "        quickSort(A, p, q-1)\n",
    "        quickSort(A, q+1, r)\n",
    "        "
   ]
  },
  {
   "cell_type": "markdown",
   "metadata": {},
   "source": [
    "- クイックソートの引数p, rの型を確認\n",
    "- 数字とカード種類のpairClassを作成\n",
    "- pairClassに対してクイックソートを実装\n",
    "- 安定なソート(調べる)でソート実装\n",
    "- クイックソートの結果と安定なソートの結果がおなじになるか確認"
   ]
  },
  {
   "cell_type": "code",
   "execution_count": 78,
   "metadata": {
    "collapsed": true
   },
   "outputs": [],
   "source": [
    "class Card:\n",
    "    def __init__(self, char, num):\n",
    "        self.char = char\n",
    "        self.num = num\n",
    "\n",
    "# stable sort: bubble sort\n",
    "def bubbleSort(A, N):\n",
    "    i = 0\n",
    "    flag = True\n",
    "    while flag:\n",
    "        flag = False\n",
    "        for j in range(N-1, i, -1):\n",
    "            if A[j].num < A[j - 1].num:\n",
    "                A[j], A[j-1] = A[j-1], A[j]\n",
    "                flag = True\n",
    "        i += 1\n",
    "                \n",
    "def isStable(A1, A2, N):\n",
    "    for i in range(N):\n",
    "        if A1[i].char != A2[i].char:\n",
    "            return False\n",
    "    return True\n",
    "\n",
    "def partition4Card(A, p , r):\n",
    "    x = A[r].num\n",
    "    i = p - 1\n",
    "    for j in range(p, r):\n",
    "        if A[j].num <= x:\n",
    "            i += 1\n",
    "            A[i], A[j] = A[j], A[i]\n",
    "    A[i+1], A[r] = A[r], A[i+1]\n",
    "    return A, i+1\n",
    "    \n",
    "def quickSort4Card(A, p , r):\n",
    "    if p < r:\n",
    "        B, q = partition4Card(A, p, r)\n",
    "        quickSort4Card(A, p, q-1)\n",
    "        quickSort4Card(A, q+1, r)\n",
    "    return A\n",
    "        \n",
    "    \n",
    "    "
   ]
  },
  {
   "cell_type": "code",
   "execution_count": 83,
   "metadata": {
    "collapsed": false
   },
   "outputs": [],
   "source": [
    "N = 6\n",
    "inputs=['D3', 'H2', 'D1', 'S3', 'D2', 'C1']\n",
    "cards = []\n",
    "for i in range(N):\n",
    "    cards.append(Card(inputs[i][0], int(inputs[i][1])))"
   ]
  },
  {
   "cell_type": "code",
   "execution_count": 84,
   "metadata": {
    "collapsed": false
   },
   "outputs": [],
   "source": [
    "import copy\n",
    "b_cards = copy.deepcopy(cards)\n",
    "bubbleSort(b_cards, N)"
   ]
  },
  {
   "cell_type": "code",
   "execution_count": 85,
   "metadata": {
    "collapsed": false
   },
   "outputs": [
    {
     "name": "stdout",
     "output_type": "stream",
     "text": [
      "D   1\n",
      "C   1\n",
      "H   2\n",
      "D   2\n",
      "D   3\n",
      "S   3\n"
     ]
    }
   ],
   "source": [
    "for i in range(N):\n",
    "    print(b_cards[i].char, ' ', b_cards[i].num)"
   ]
  },
  {
   "cell_type": "code",
   "execution_count": 86,
   "metadata": {
    "collapsed": false
   },
   "outputs": [],
   "source": [
    "result = quickSort4Card(cards, 0, N-1)"
   ]
  },
  {
   "cell_type": "code",
   "execution_count": 88,
   "metadata": {
    "collapsed": false
   },
   "outputs": [
    {
     "data": {
      "text/plain": [
       "False"
      ]
     },
     "execution_count": 88,
     "metadata": {},
     "output_type": "execute_result"
    }
   ],
   "source": [
    "isStable(result, b_cards, N)"
   ]
  },
  {
   "cell_type": "code",
   "execution_count": 89,
   "metadata": {
    "collapsed": false
   },
   "outputs": [
    {
     "name": "stdout",
     "output_type": "stream",
     "text": [
      "not Stable\n",
      "D   1\n",
      "C   1\n",
      "D   2\n",
      "H   2\n",
      "D   3\n",
      "S   3\n"
     ]
    }
   ],
   "source": [
    "if isStable(result, b_cards, N):\n",
    "    print('Stable')\n",
    "else:\n",
    "    print('not Stable')\n",
    "    \n",
    "for i in range(N):\n",
    "    print(result[i].char, ' ', result[i].num)"
   ]
  },
  {
   "cell_type": "markdown",
   "metadata": {},
   "source": [
    "## 7.4 Counting Sort 計測ソート(バケツソート バケットソート)"
   ]
  },
  {
   "cell_type": "code",
   "execution_count": 144,
   "metadata": {
    "collapsed": false
   },
   "outputs": [],
   "source": [
    "C = [0 for _ in range(10000)]\n",
    "n = 7\n",
    "A = [2, 5, 1, 3, 2, 3, 0]\n",
    "\n",
    "def ContingSort(A, B, k):\n",
    "    for i in range(k):\n",
    "        C[i] = 0\n",
    "    \n",
    "    for i in range(n):\n",
    "        C[A[i]] += 1\n",
    "    print(C[:k+1])\n",
    "    for i in range(k):\n",
    "        C[i+1] = C[i+1] + C[i]\n",
    "    print(C[:k+1])\n",
    "    for j in range(n-1, -1, -1):\n",
    "        B[C[A[j]]] = A[j]\n",
    "        print('j:', j, 'A[j]:', A[j],'C[A[j]]:', C[A[j]],'B[C[A[j]]]:', B[C[A[j]]])\n",
    "        C[A[j]] -= 1\n",
    "        print('C[A[j]]:', C[:k+1])\n",
    "        \n",
    "        "
   ]
  },
  {
   "cell_type": "code",
   "execution_count": 145,
   "metadata": {
    "collapsed": false
   },
   "outputs": [
    {
     "name": "stdout",
     "output_type": "stream",
     "text": [
      "[1, 1, 2, 2, 0, 1]\n",
      "[1, 2, 4, 6, 6, 7]\n",
      "j: 6 A[j]: 0 C[A[j]]: 1 B[C[A[j]]]: 0\n",
      "C[A[j]]: [0, 2, 4, 6, 6, 7]\n",
      "j: 5 A[j]: 3 C[A[j]]: 6 B[C[A[j]]]: 3\n",
      "C[A[j]]: [0, 2, 4, 5, 6, 7]\n",
      "j: 4 A[j]: 2 C[A[j]]: 4 B[C[A[j]]]: 2\n",
      "C[A[j]]: [0, 2, 3, 5, 6, 7]\n",
      "j: 3 A[j]: 3 C[A[j]]: 5 B[C[A[j]]]: 3\n",
      "C[A[j]]: [0, 2, 3, 4, 6, 7]\n",
      "j: 2 A[j]: 1 C[A[j]]: 2 B[C[A[j]]]: 1\n",
      "C[A[j]]: [0, 1, 3, 4, 6, 7]\n",
      "j: 1 A[j]: 5 C[A[j]]: 7 B[C[A[j]]]: 5\n",
      "C[A[j]]: [0, 1, 3, 4, 6, 6]\n",
      "j: 0 A[j]: 2 C[A[j]]: 3 B[C[A[j]]]: 2\n",
      "C[A[j]]: [0, 1, 2, 4, 6, 6]\n"
     ]
    }
   ],
   "source": [
    "B = [0 for _ in range(n+1)]\n",
    "k = max(A)\n",
    "ContingSort(A, B, k)"
   ]
  },
  {
   "cell_type": "code",
   "execution_count": 147,
   "metadata": {
    "collapsed": false
   },
   "outputs": [
    {
     "data": {
      "text/plain": [
       "[0, 1, 2, 2, 3, 3, 5]"
      ]
     },
     "execution_count": 147,
     "metadata": {},
     "output_type": "execute_result"
    }
   ],
   "source": [
    "B[1:]"
   ]
  },
  {
   "cell_type": "markdown",
   "metadata": {},
   "source": []
  },
  {
   "cell_type": "markdown",
   "metadata": {},
   "source": [
    "## 7.5　標準ライブラリSTLのsortを使え"
   ]
  },
  {
   "cell_type": "markdown",
   "metadata": {},
   "source": [
    "## 7.6 7.7 難しいようなので一旦飛ばす"
   ]
  },
  {
   "cell_type": "code",
   "execution_count": null,
   "metadata": {
    "collapsed": true
   },
   "outputs": [],
   "source": []
  }
 ],
 "metadata": {
  "anaconda-cloud": {},
  "kernelspec": {
   "display_name": "Python [conda env:py36]",
   "language": "python",
   "name": "conda-env-py36-py"
  },
  "language_info": {
   "codemirror_mode": {
    "name": "ipython",
    "version": 3
   },
   "file_extension": ".py",
   "mimetype": "text/x-python",
   "name": "python",
   "nbconvert_exporter": "python",
   "pygments_lexer": "ipython3",
   "version": "3.6.1"
  }
 },
 "nbformat": 4,
 "nbformat_minor": 1
}

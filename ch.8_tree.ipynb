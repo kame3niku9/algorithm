{
 "cells": [
  {
   "cell_type": "markdown",
   "metadata": {},
   "source": [
    "## 8.1 問題に挑戦する前に"
   ]
  },
  {
   "cell_type": "markdown",
   "metadata": {},
   "source": [
    "## 8.2 根付き木の表現"
   ]
  },
  {
   "cell_type": "code",
   "execution_count": 6,
   "metadata": {
    "collapsed": false
   },
   "outputs": [
    {
     "ename": "KeyboardInterrupt",
     "evalue": "",
     "output_type": "error",
     "traceback": [
      "\u001b[0;31m---------------------------------------------------------------------------\u001b[0m",
      "\u001b[0;31mKeyboardInterrupt\u001b[0m                         Traceback (most recent call last)",
      "\u001b[0;32m<ipython-input-6-c7df905144d4>\u001b[0m in \u001b[0;36m<module>\u001b[0;34m()\u001b[0m\n\u001b[1;32m     32\u001b[0m \u001b[0mparent\u001b[0m \u001b[0;34m=\u001b[0m \u001b[0;34m-\u001b[0m\u001b[0;36m1\u001b[0m\u001b[0;34m\u001b[0m\u001b[0m\n\u001b[1;32m     33\u001b[0m \u001b[0;32mwhile\u001b[0m \u001b[0;32mTrue\u001b[0m\u001b[0;34m:\u001b[0m\u001b[0;34m\u001b[0m\u001b[0m\n\u001b[0;32m---> 34\u001b[0;31m     \u001b[0;32mpass\u001b[0m\u001b[0;34m\u001b[0m\u001b[0m\n\u001b[0m\u001b[1;32m     35\u001b[0m \u001b[0;34m\u001b[0m\u001b[0m\n",
      "\u001b[0;31mKeyboardInterrupt\u001b[0m: "
     ]
    }
   ],
   "source": [
    "n = 13\n",
    "ids = [i for i in range(n)]\n",
    "degs = [3, 2, 0, 0, 3, 0, 0, 2, 0, 0, 2, 0, 0]\n",
    "childs = [[1, 4, 10], [2, 3], [], [], [5, 6, 7], [], [], [8, 9], [], [], [11, 12], [], []]\n",
    "\n",
    "class Node:\n",
    "    def __init__(self, id, parent, child=[]):\n",
    "        self.id = id\n",
    "        self.parent = parent\n",
    "        self.child = child\n",
    "        if child == []:\n",
    "            self.kind = 'leaf'\n",
    "            self.depth = self.parent.depth +  1\n",
    "        elif parent != -1:\n",
    "            self.kind ='internal node'\n",
    "            self.depth = self.parent.depth +  1\n",
    "        else:\n",
    "            self.kind = 'root'\n",
    "            self.depth = 0\n",
    "\n",
    "# rootの探索\n",
    "root = -1\n",
    "for j in range(n):\n",
    "    for i in range(n):\n",
    "        if ids[j] in childs[i]:\n",
    "            break\n",
    "    root = j\n",
    "    break\n",
    "\n",
    "tree = []\n",
    "\n",
    "id = ids[root]\n",
    "parent = -1\n",
    "for _ in range(n):\n",
    "    child = childs[id]\n",
    "    node = Node(id, parent, child)\n",
    "    tree.append(node)\n",
    "    \n",
    "    \n"
   ]
  },
  {
   "cell_type": "code",
   "execution_count": 57,
   "metadata": {
    "collapsed": false
   },
   "outputs": [],
   "source": [
    "n = 13\n",
    "ids = [i for i in range(n)]\n",
    "degs = [3, 2, 0, 0, 3, 0, 0, 2, 0, 0, 2, 0, 0]\n",
    "childs = [[1, 4, 10], [2, 3], [], [], [5, 6, 7], [], [], [8, 9], [], [], [11, 12], [], []]\n",
    "\n",
    "# 左子右兄弟表現 left-child, right-sibling representation\n",
    "# 親、最も左の子、右の兄弟\n",
    "class Node:\n",
    "    def __init__(self, id, parent=-1, left=-1, right=-1, deg=0, kind='internal node', depth=None,childs=[]):\n",
    "        self.id = id\n",
    "        self.parent = parent\n",
    "        self.left = left\n",
    "        self.right = right\n",
    "        self.deg = deg\n",
    "        self.kind = kind\n",
    "        self.depth = depth\n",
    "        self.childs = childs\n",
    "        \n",
    "T = [Node(id=i, childs=childs[i]) for i in range(n)]\n",
    "l = 0; r=0\n",
    "# Tree構造の格納\n",
    "for i in range(n):\n",
    "    T[i].deg = degs[i]\n",
    "    for j in range(degs[i]):\n",
    "        if j == 0:\n",
    "            T[ids[i]].left = childs[i][j]\n",
    "        else:\n",
    "            T[l].right = childs[i][j]\n",
    "        l = childs[i][j]\n",
    "        T[childs[i][j]].parent = T[ids[i]].id\n",
    "        \n",
    "# depth計算\n",
    "for i in range(n):\n",
    "    c = 0\n",
    "    p = T[i].parent\n",
    "    while True:\n",
    "        #print('p', p)\n",
    "        if p == -1:\n",
    "            #print('c', c)\n",
    "            T[i].depth = c\n",
    "            break\n",
    "        else:\n",
    "            #print('else')\n",
    "            p = T[p].parent\n",
    "            c += 1\n",
    "# 種類の判定\n",
    "for i in range(n):\n",
    "    if T[i].parent == -1:\n",
    "        T[i].kind = 'root'\n",
    "    elif T[i].left == -1:\n",
    "        T[i].kind ='leaf'\n"
   ]
  },
  {
   "cell_type": "code",
   "execution_count": 61,
   "metadata": {
    "collapsed": false
   },
   "outputs": [
    {
     "name": "stdout",
     "output_type": "stream",
     "text": [
      "node  0 : parent =  -1, depth =  0, root, [1, 4, 10]\n",
      "node  1 : parent =  0, depth =  1, internal node, [2, 3]\n",
      "node  2 : parent =  1, depth =  2, leaf, []\n",
      "node  3 : parent =  1, depth =  2, leaf, []\n",
      "node  4 : parent =  0, depth =  1, internal node, [5, 6, 7]\n",
      "node  5 : parent =  4, depth =  2, leaf, []\n",
      "node  6 : parent =  4, depth =  2, leaf, []\n",
      "node  7 : parent =  4, depth =  2, internal node, [8, 9]\n",
      "node  8 : parent =  7, depth =  3, leaf, []\n",
      "node  9 : parent =  7, depth =  3, leaf, []\n",
      "node  10 : parent =  0, depth =  1, internal node, [11, 12]\n",
      "node  11 : parent =  10, depth =  2, leaf, []\n",
      "node  12 : parent =  10, depth =  2, leaf, []\n"
     ]
    }
   ],
   "source": [
    "for i in range(len(T)):\n",
    "    #print(' --- ', i, ' --- ')\n",
    "    print('node ', T[i].id, end=' : ')\n",
    "    print('parent = ', T[i].parent, end=', ')\n",
    "    #print('degree', T[i].deg)\n",
    "    #print('left', T[i].left)\n",
    "    #print('right', T[i].right)\n",
    "    print('depth = ', T[i].depth, end=', ')\n",
    "    print(T[i].kind, end=', ')\n",
    "    print(T[i].childs)\n"
   ]
  },
  {
   "cell_type": "markdown",
   "metadata": {},
   "source": [
    "結果は出たが、より木構造のメリットを利用した探索方法がある。"
   ]
  },
  {
   "cell_type": "code",
   "execution_count": 62,
   "metadata": {
    "collapsed": false
   },
   "outputs": [],
   "source": [
    "# 再帰的に節点uの深さを計算\n",
    "D = [0 for _ in range(n)]\n",
    "def setDepth(u, p):\n",
    "    D[u] = p\n",
    "    if T[u].right != -1:\n",
    "        setDepth(T[u].right, p)\n",
    "    if T[u].left != -1:\n",
    "        setDepth(T[u].left, p+1)\n",
    "        \n",
    "# root探索\n",
    "root = -1\n",
    "for i in range(n):\n",
    "    if T[i].kind == 'root':\n",
    "        root = i\n",
    "        \n",
    "setDepth(root, 0)\n",
    "    "
   ]
  },
  {
   "cell_type": "code",
   "execution_count": 63,
   "metadata": {
    "collapsed": false
   },
   "outputs": [
    {
     "data": {
      "text/plain": [
       "[0, 1, 2, 2, 1, 2, 2, 2, 3, 3, 1, 2, 2]"
      ]
     },
     "execution_count": 63,
     "metadata": {},
     "output_type": "execute_result"
    }
   ],
   "source": [
    "D"
   ]
  },
  {
   "cell_type": "code",
   "execution_count": 68,
   "metadata": {
    "collapsed": false
   },
   "outputs": [],
   "source": [
    "# 子のリストの表示\n",
    "def printChild(u):\n",
    "    c = T[u].left\n",
    "    while c != -1:\n",
    "        print(c, end=', ')\n",
    "        c = T[c].right\n",
    "        "
   ]
  },
  {
   "cell_type": "markdown",
   "metadata": {},
   "source": [
    "## 8.3 二分木の表現"
   ]
  },
  {
   "cell_type": "code",
   "execution_count": 91,
   "metadata": {
    "collapsed": false
   },
   "outputs": [
    {
     "name": "stdout",
     "output_type": "stream",
     "text": [
      "node  0: parent =  -1, sibling =  -1, depth =  0, height =  3, \n",
      "node  1: parent =  0, sibling =  4, depth =  1, height =  1, \n",
      "node  2: parent =  1, sibling =  3, depth =  2, height =  0, \n",
      "node  3: parent =  1, sibling =  2, depth =  2, height =  0, \n",
      "node  4: parent =  0, sibling =  1, depth =  1, height =  2, \n",
      "node  5: parent =  4, sibling =  8, depth =  2, height =  1, \n",
      "node  6: parent =  5, sibling =  7, depth =  3, height =  0, \n",
      "node  7: parent =  5, sibling =  6, depth =  3, height =  0, \n",
      "node  8: parent =  4, sibling =  5, depth =  2, height =  0, \n"
     ]
    }
   ],
   "source": [
    "class Node:\n",
    "    def __init__(self, parent=-1, left=-1, right=-1):\n",
    "        self.parent = parent\n",
    "        self.left = left\n",
    "        self.right = right\n",
    "        self.kind = 'internal node'\n",
    "        \n",
    "n = 9\n",
    "lines = [[0, 1, 4], [1, 2, 3], [2, -1, -1], [3, -1, -1], [4, 5, 8], [5, 6, 7], [6, -1, -1], [7, -1, -1], [8, -1, -1]]\n",
    "\n",
    "T = [Node() for _ in range(n)]\n",
    "for line in lines:\n",
    "    id = line[0]\n",
    "    left = line[1]\n",
    "    right = line[2]\n",
    "    T[id].left = left\n",
    "    T[id]. right = right\n",
    "    if left != -1:\n",
    "        T[left].parent = id\n",
    "    if right != -1:\n",
    "        T[right].parent = id\n",
    "\n",
    "\n",
    "D = [0 for _ in range(n)]\n",
    "H = [0 for _ in range(n)]\n",
    "\n",
    "# 再帰的に節点uの深さを計算\n",
    "def setDepth(u, d):\n",
    "    if u == -1:\n",
    "        return \n",
    "    D[u] = d\n",
    "    setDepth(T[u].left, d+1)\n",
    "    setDepth(T[u].right, d+1)\n",
    "\n",
    "# 種類の判定\n",
    "root = -1\n",
    "for i in range(n):\n",
    "    if T[i].parent == -1:\n",
    "        T[i].kind = 'root'\n",
    "        root = i\n",
    "    elif T[i].left == -1:\n",
    "        T[i].kind ='leaf'\n",
    "        \n",
    "setDepth(root, 0)\n",
    "    \n",
    "# 再帰的に節点uの高さを計算\n",
    "def setHeight(u):\n",
    "    h1 = h2 = 0\n",
    "    if T[u].right != -1:\n",
    "        h1 = setHeight(T[u].right) + 1\n",
    "    if T[u].left != -1:\n",
    "        h2 = setHeight(T[u].left) + 1   \n",
    "    H[u] = max(h1, h2)\n",
    "    return H[u]\n",
    "    \n",
    "setHeight(root)\n",
    "\n",
    "# sibling の探索\n",
    "def getSibling(u):\n",
    "    if T[u].parent == -1:\n",
    "        return -1\n",
    "    if T[T[u].parent].left != u and T[T[u].parent].left != -1:\n",
    "        return T[T[u].parent].left\n",
    "    if T[T[u].parent].right != u and T[T[u].parent].right != -1:\n",
    "        return T[T[u].parent].right\n",
    "        \n",
    "    \n",
    "for i in range(n):\n",
    "    print('node ', i, end=': ')\n",
    "    print('parent = ', T[i].parent, end=', ')\n",
    "    print('sibling = ', getSibling(i), end=', ')\n",
    "    #print('degree = ')\n",
    "    print('depth = ', D[i], end=', ')\n",
    "    print('height = ', H[i], end=', ')\n",
    "    #print(kind)\n",
    "    print()\n"
   ]
  },
  {
   "cell_type": "code",
   "execution_count": 83,
   "metadata": {
    "collapsed": false
   },
   "outputs": [
    {
     "data": {
      "text/plain": [
       "[0, 1, 2, 2, 1, 2, 3, 3, 2]"
      ]
     },
     "execution_count": 83,
     "metadata": {},
     "output_type": "execute_result"
    }
   ],
   "source": [
    "D"
   ]
  },
  {
   "cell_type": "code",
   "execution_count": 88,
   "metadata": {
    "collapsed": false
   },
   "outputs": [
    {
     "data": {
      "text/plain": [
       "[3, 1, 0, 0, 2, 1, 0, 0, 0]"
      ]
     },
     "execution_count": 88,
     "metadata": {},
     "output_type": "execute_result"
    }
   ],
   "source": [
    "H"
   ]
  },
  {
   "cell_type": "markdown",
   "metadata": {
    "collapsed": true
   },
   "source": [
    "## 8.4 木の巡回"
   ]
  },
  {
   "cell_type": "code",
   "execution_count": 22,
   "metadata": {
    "collapsed": false
   },
   "outputs": [],
   "source": [
    "n = 9\n",
    "lines = [[0, 1, 4], [1, 2, 3], [2, -1, -1], [3, -1, -1], [4, 5, 8], [5, 6, 7], [6, -1, -1], [7, -1, -1], [8, -1, -1]]\n",
    "\n",
    "class Node:\n",
    "    def __init__(self, parent=-1, left=-1, right=-1):\n",
    "        self.parent = parent\n",
    "        self.left = left\n",
    "        self.right = right\n",
    "        self.kind = 'internal node'\n",
    "\n",
    "T = [Node() for _ in range(n)]\n",
    "for line in lines:\n",
    "    id = line[0]\n",
    "    left = line[1]\n",
    "    right = line[2]\n",
    "    T[id].left = left\n",
    "    T[id]. right = right\n",
    "    if left != -1:\n",
    "        T[left].parent = id\n",
    "    if right != -1:\n",
    "        T[right].parent = id\n",
    "        "
   ]
  },
  {
   "cell_type": "code",
   "execution_count": 23,
   "metadata": {
    "collapsed": true
   },
   "outputs": [],
   "source": [
    "# preoder\n",
    "# startは０から\n",
    "# 左の子が、次の目的地\n",
    "# 左の子が無い場合は、右の子を見る\n",
    "# 右の子がない場合は、Nullリターン"
   ]
  },
  {
   "cell_type": "code",
   "execution_count": 51,
   "metadata": {
    "collapsed": false
   },
   "outputs": [
    {
     "data": {
      "text/plain": [
       "[0, 1, 2, 3, 4, 5, 6, 7, 8]"
      ]
     },
     "execution_count": 51,
     "metadata": {},
     "output_type": "execute_result"
    }
   ],
   "source": [
    "A = []\n",
    "def preoder(node):\n",
    "    A.append(node)\n",
    "    #print('now:' , node)\n",
    "    if T[node].left != -1:\n",
    "        #print('next:', T[node].left)\n",
    "        preoder(T[node].left)\n",
    "    if T[node].right != -1:\n",
    "        #print('next:', T[node].right)\n",
    "        preoder(T[node].right)\n",
    "preoder(0)\n",
    "A"
   ]
  },
  {
   "cell_type": "code",
   "execution_count": 30,
   "metadata": {
    "collapsed": true
   },
   "outputs": [],
   "source": [
    "# Inoder　左の子、根、右の子、で出力\n",
    "# startは0(ただし出力は2)\n",
    "# 左の子、右の子の順で探索。\n",
    "# 子が無い場合は、出力"
   ]
  },
  {
   "cell_type": "code",
   "execution_count": 50,
   "metadata": {
    "collapsed": false
   },
   "outputs": [
    {
     "data": {
      "text/plain": [
       "[2, 1, 3, 0, 6, 5, 7, 4, 8]"
      ]
     },
     "execution_count": 50,
     "metadata": {},
     "output_type": "execute_result"
    }
   ],
   "source": [
    "B = []\n",
    "def inoder(node):\n",
    "    #print(node)\n",
    "    if T[node].left != -1:\n",
    "        inoder(T[node].left)\n",
    "    B.append(node)\n",
    "    if T[node].right != -1:\n",
    "        inoder(T[node].right)\n",
    "        \n",
    "inoder(0)\n",
    "B"
   ]
  },
  {
   "cell_type": "code",
   "execution_count": 52,
   "metadata": {
    "collapsed": true
   },
   "outputs": [],
   "source": [
    "# Postoder"
   ]
  },
  {
   "cell_type": "code",
   "execution_count": 54,
   "metadata": {
    "collapsed": false
   },
   "outputs": [
    {
     "data": {
      "text/plain": [
       "[2, 3, 1, 6, 7, 5, 8, 4, 0]"
      ]
     },
     "execution_count": 54,
     "metadata": {},
     "output_type": "execute_result"
    }
   ],
   "source": [
    "C = []\n",
    "def postoder(node):\n",
    "    if T[node].left != -1:\n",
    "        postoder(T[node].left)\n",
    "    if T[node].right != -1:\n",
    "        postoder(T[node].right)\n",
    "    C.append(node)\n",
    "postoder(0)\n",
    "C"
   ]
  },
  {
   "cell_type": "markdown",
   "metadata": {},
   "source": [
    "## 8.5 木巡回の応用：木の復元"
   ]
  },
  {
   "cell_type": "code",
   "execution_count": 88,
   "metadata": {
    "collapsed": false
   },
   "outputs": [
    {
     "name": "stdout",
     "output_type": "stream",
     "text": [
      "* left\n",
      "cnt: 1 c: 1 m: 3 l: 0 r: 5\n",
      "* left\n",
      "cnt: 2 c: 2 m: 1 l: 0 r: 3\n",
      "* left\n",
      "cnt: 3 c: 3 m: 0 l: 0 r: 1\n",
      "#false\n",
      "- right\n",
      "cnt: 3 c: 3 m: 0 l: 0 r: 1\n",
      "#false\n",
      "- right\n",
      "cnt: 3 c: 2 m: 1 l: 0 r: 3\n",
      "* left\n",
      "cnt: 4 c: 4 m: 2 l: 2 r: 3\n",
      "#false\n",
      "- right\n",
      "cnt: 4 c: 4 m: 2 l: 2 r: 3\n",
      "#false\n",
      "- right\n",
      "cnt: 4 c: 1 m: 3 l: 0 r: 5\n",
      "* left\n",
      "cnt: 5 c: 5 m: 4 l: 4 r: 5\n",
      "#false\n",
      "- right\n",
      "cnt: 5 c: 5 m: 4 l: 4 r: 5\n",
      "#false\n"
     ]
    },
    {
     "data": {
      "text/plain": [
       "[3, 4, 2, 5, 1]"
      ]
     },
     "execution_count": 88,
     "metadata": {},
     "output_type": "execute_result"
    }
   ],
   "source": [
    "n = 5\n",
    "pre = [1, 2, 3, 4, 5]\n",
    "ino = [3, 2, 4, 1, 5]\n",
    "\n",
    "D = []\n",
    "cnt = 0\n",
    "def reconstraction(l, r):\n",
    "    global cnt\n",
    "    if cnt >= n or l >= r:\n",
    "        print('#false')\n",
    "        return\n",
    "    c = pre[cnt]\n",
    "    m = ino.index(c)\n",
    "    cnt += 1\n",
    "    print('* left')\n",
    "    print('cnt:', cnt, 'c:', c, 'm:', m, 'l:', l, 'r:', r)\n",
    "    reconstraction(l, m)\n",
    "    print('- right')\n",
    "    print('cnt:', cnt, 'c:', c, 'm:', m, 'l:', l, 'r:', r)\n",
    "    reconstraction(m+1, r)\n",
    "    \n",
    "    D.append(c)\n",
    "\n",
    "reconstraction(0, n)\n",
    "D    "
   ]
  },
  {
   "cell_type": "code",
   "execution_count": 62,
   "metadata": {
    "collapsed": false
   },
   "outputs": [
    {
     "ename": "TypeError",
     "evalue": "'bool' object is not iterable",
     "output_type": "error",
     "traceback": [
      "\u001b[0;31m---------------------------------------------------------------------------\u001b[0m",
      "\u001b[0;31mTypeError\u001b[0m                                 Traceback (most recent call last)",
      "\u001b[0;32m<ipython-input-62-282d23f88bdb>\u001b[0m in \u001b[0;36m<module>\u001b[0;34m()\u001b[0m\n\u001b[0;32m----> 1\u001b[0;31m \u001b[0ma\u001b[0m\u001b[0;34m,\u001b[0m \u001b[0mb\u001b[0m \u001b[0;34m=\u001b[0m \u001b[0;36m1\u001b[0m \u001b[0;32min\u001b[0m \u001b[0mpre\u001b[0m\u001b[0;34m\u001b[0m\u001b[0m\n\u001b[0m",
      "\u001b[0;31mTypeError\u001b[0m: 'bool' object is not iterable"
     ]
    }
   ],
   "source": []
  },
  {
   "cell_type": "code",
   "execution_count": null,
   "metadata": {
    "collapsed": true
   },
   "outputs": [],
   "source": []
  },
  {
   "cell_type": "code",
   "execution_count": null,
   "metadata": {
    "collapsed": true
   },
   "outputs": [],
   "source": []
  }
 ],
 "metadata": {
  "anaconda-cloud": {},
  "kernelspec": {
   "display_name": "Python [conda root]",
   "language": "python",
   "name": "conda-root-py"
  },
  "language_info": {
   "codemirror_mode": {
    "name": "ipython",
    "version": 3
   },
   "file_extension": ".py",
   "mimetype": "text/x-python",
   "name": "python",
   "nbconvert_exporter": "python",
   "pygments_lexer": "ipython3",
   "version": "3.5.2"
  }
 },
 "nbformat": 4,
 "nbformat_minor": 1
}

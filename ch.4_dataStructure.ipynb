{
 "cells": [
  {
   "cell_type": "markdown",
   "metadata": {},
   "source": [
    "## 4.2 スタック"
   ]
  },
  {
   "cell_type": "code",
   "execution_count": 61,
   "metadata": {
    "collapsed": false
   },
   "outputs": [],
   "source": [
    "class Stack:\n",
    "    def __init__(self, N=10):\n",
    "        self.top = 0\n",
    "        self.S = [0 for i in range(N)]\n",
    "        self.N = N\n",
    "        \n",
    "    def __str__(self):\n",
    "        return str(self.top)\n",
    "    \n",
    "    #def __repr__(self):\n",
    "     #   return str(self.top)\n",
    "        \n",
    "    def clear(self):\n",
    "        self.top = 0\n",
    "        \n",
    "    def isNull(self):\n",
    "        return self.top == 0\n",
    "    \n",
    "    def isFull(self):\n",
    "        return self.top == self.N-1\n",
    "    \n",
    "    def push(self, x):\n",
    "        if self.isFull():\n",
    "            print('error! push!')\n",
    "            return False\n",
    "        self.top += 1\n",
    "        self.S[self.top] = x\n",
    "        \n",
    "    def pop(self):\n",
    "        if self.isNull():\n",
    "            print('error! pop!')\n",
    "            return False\n",
    "        x = self.S[self.top]\n",
    "        self.top -= 1\n",
    "        return x"
   ]
  },
  {
   "cell_type": "code",
   "execution_count": 65,
   "metadata": {
    "collapsed": false
   },
   "outputs": [
    {
     "name": "stdout",
     "output_type": "stream",
     "text": [
      "+\n",
      "before: {'top': 2, 'S': [0, 1, 2, 0, 0, 0, 0, 0, 0, 0], 'N': 10}\n",
      "x1, x2: 1 , 2\n",
      "{'top': 1, 'S': [0, 3, 2, 0, 0, 0, 0, 0, 0, 0], 'N': 10}\n",
      "-\n",
      "before: {'top': 3, 'S': [0, 3, 3, 4, 0, 0, 0, 0, 0, 0], 'N': 10}\n",
      "x1, x2: 3 , 4\n",
      "{'top': 2, 'S': [0, 3, -1, 4, 0, 0, 0, 0, 0, 0], 'N': 10}\n",
      "*\n",
      "before: {'top': 2, 'S': [0, 3, -1, 4, 0, 0, 0, 0, 0, 0], 'N': 10}\n",
      "x1, x2: 3 , -1\n",
      "{'top': 1, 'S': [0, -3, -1, 4, 0, 0, 0, 0, 0, 0], 'N': 10}\n",
      "-3\n"
     ]
    }
   ],
   "source": [
    "str = ['1', '2', '+', '3', '4', '-', '*']\n",
    "\n",
    "stack = Stack()\n",
    "\n",
    "for s in str:\n",
    "    if s == '+':\n",
    "        print('+')\n",
    "        print('before:', vars(stack))\n",
    "        x2 = stack.pop()\n",
    "        x1 = stack.pop()\n",
    "        print('x1, x2:', x1, ',', x2)\n",
    "        stack.push(x1 + x2)\n",
    "        print(vars(stack))\n",
    "        \n",
    "    elif s == '-':\n",
    "        print('-')\n",
    "        print('before:', vars(stack))\n",
    "        x2 = stack.pop()\n",
    "        x1 = stack.pop()\n",
    "        print('x1, x2:', x1,  ',', x2)\n",
    "        stack.push(x1 - x2)\n",
    "        print(vars(stack))\n",
    "        \n",
    "    elif s == '*':\n",
    "        print('*')\n",
    "        print('before:', vars(stack))\n",
    "        x2 = stack.pop()\n",
    "        x1 = stack.pop()\n",
    "        print('x1, x2:', x1,  ',', x2)\n",
    "        stack.push(x1 * x2)\n",
    "        print(vars(stack))\n",
    "        \n",
    "    else:\n",
    "        x = int(s)\n",
    "        stack.push(x)\n",
    "        \n",
    "print(stack.pop())\n"
   ]
  },
  {
   "cell_type": "markdown",
   "metadata": {},
   "source": [
    "## 4.3 キュー"
   ]
  },
  {
   "cell_type": "code",
   "execution_count": null,
   "metadata": {
    "collapsed": true
   },
   "outputs": [],
   "source": []
  },
  {
   "cell_type": "code",
   "execution_count": 71,
   "metadata": {
    "collapsed": false
   },
   "outputs": [],
   "source": [
    "class Item:\n",
    "    def __init__(self, name, time):\n",
    "        self.name = name\n",
    "        self.time = time"
   ]
  },
  {
   "cell_type": "code",
   "execution_count": 82,
   "metadata": {
    "collapsed": false
   },
   "outputs": [
    {
     "name": "stdout",
     "output_type": "stream",
     "text": [
      "p2 180\n",
      "p5 400\n",
      "p1 450\n",
      "p3 550\n",
      "p4 800\n"
     ]
    }
   ],
   "source": [
    "n = 5\n",
    "q = 100\n",
    "#dict = {'p1': 150, 'p2': 80, 'p3': 200, 'p4':350, 'p5':20}\n",
    "names = ['p1', 'p2', 'p3', 'p4', 'p5']\n",
    "times = [150, 80, 200, 350, 20]\n",
    "\n",
    "queue = []\n",
    "for i in range(n):\n",
    "    queue.append(Item(names[i], times[i]))\n",
    "\n",
    "global_time = 0\n",
    "while len(queue) != 0:\n",
    "    item = queue.pop(0)\n",
    "    #print('b:',item.name, item.time)\n",
    "    if item.time > q:\n",
    "        item.time -= q\n",
    "        global_time += q\n",
    "        queue.append(item)\n",
    "        #print('a:',item.name, item.time)\n",
    "    else:\n",
    "        global_time += item.time\n",
    "        print(item.name, global_time)\n"
   ]
  },
  {
   "cell_type": "markdown",
   "metadata": {},
   "source": [
    "## 4.4 連結リスト"
   ]
  },
  {
   "cell_type": "code",
   "execution_count": 168,
   "metadata": {
    "collapsed": false
   },
   "outputs": [],
   "source": [
    "class Item:\n",
    "    def __init__(self, key, before=None, next=None):\n",
    "        self.key = key\n",
    "        self.before = before\n",
    "        self.next = next\n",
    "\n",
    "class DLL: #Double Linked List\n",
    "    def __init__(self):\n",
    "        self.list = []\n",
    "        self.top = None\n",
    "        self.num = 0\n",
    "        \n",
    "    def insert(self, x):\n",
    "        if self.top == None:\n",
    "            item = Item(x)\n",
    "        else:\n",
    "            item = Item(x, next=self.top)\n",
    "            # 今までtopだったものは、beforeに、今追加した要素を設定\n",
    "            self.top.before = item\n",
    "\n",
    "\n",
    "        # 新しい要素(先頭に)追加\n",
    "        self.list.append(item)\n",
    "        self.top = item\n",
    "        self.num += 1\n",
    "        \n",
    "    def delete(self, x):\n",
    "        item = self.top\n",
    "        while item != None:\n",
    "            if item.key == x:\n",
    "                if item.next == None:\n",
    "                    item.before.next = item.next\n",
    "                else:\n",
    "                    item.before.next = item.next\n",
    "                    item.next.before = item.before\n",
    "                self.list.remove(item)\n",
    "                self.num -= 1\n",
    "                break\n",
    "                \n",
    "            item = item.next\n",
    "                \n",
    "        "
   ]
  },
  {
   "cell_type": "code",
   "execution_count": 169,
   "metadata": {
    "collapsed": false
   },
   "outputs": [],
   "source": [
    "n = 7\n",
    "commands = ['insert', 'insert', 'insert', 'insert', 'delete', 'insert', 'delete']\n",
    "keys = [5, 2, 3, 1, 3, 6, 5]\n",
    "\n",
    "dll = DLL()\n",
    "\n",
    "for i in range(n):\n",
    "    command, key = commands[i], keys[i]\n",
    "    if command == 'insert':\n",
    "        dll.insert(key)\n",
    "        \n",
    "    elif command == 'delete':\n",
    "        #pass\n",
    "        dll.delete(key)\n"
   ]
  },
  {
   "cell_type": "code",
   "execution_count": 172,
   "metadata": {
    "collapsed": false
   },
   "outputs": [
    {
     "name": "stdout",
     "output_type": "stream",
     "text": [
      "None: 4539959208\n",
      "先頭: 4575384576\n",
      "4575384016 : key: 2   before: 4575387040   next: 4539959208\n",
      "4575387040 : key: 1   before: 4575384576   next: 4575384016\n",
      "4575384576 : key: 6   before: 4539959208   next: 4575387040\n",
      "6\n",
      "1\n",
      "2\n"
     ]
    }
   ],
   "source": [
    "print('None:', id(None)) \n",
    "print('先頭:', id(dll.top))\n",
    "for i in range(dll.num):\n",
    "    print(id(dll.list[i]), ': key:', dll.list[i].key, '  before:', id(dll.list[i].before), '  next:', id(dll.list[i].next))\n",
    "    \n",
    "# result \n",
    "item = dll.top\n",
    "while item != None:\n",
    "    print(item.key)\n",
    "    item = item.next"
   ]
  },
  {
   "cell_type": "markdown",
   "metadata": {},
   "source": [
    "番兵を使用した方法でも実装したいね"
   ]
  },
  {
   "cell_type": "markdown",
   "metadata": {},
   "source": [
    "### 4.5は、C++のSTLで実装したものの紹介で終わり"
   ]
  },
  {
   "cell_type": "markdown",
   "metadata": {},
   "source": [
    "## 4.6 データ構造の応用　面積計算"
   ]
  },
  {
   "cell_type": "code",
   "execution_count": 215,
   "metadata": {
    "collapsed": true
   },
   "outputs": [],
   "source": [
    "class Stack:\n",
    "    def __init__(self, N=20000):\n",
    "        self.top = -1\n",
    "        self.S = [0 for i in range(N)]\n",
    "        self.N = N\n",
    "        \n",
    "    def __str__(self):\n",
    "        return str(self.top)\n",
    "        \n",
    "    def clear(self):\n",
    "        self.top = -1\n",
    "        \n",
    "    def isNull(self):\n",
    "        return self.top == -1\n",
    "    \n",
    "    def isFull(self):\n",
    "        return self.top == self.N-1\n",
    "    \n",
    "    def push(self, x):\n",
    "        if self.isFull():\n",
    "            print('error! push!')\n",
    "            return False\n",
    "        self.top += 1\n",
    "        self.S[self.top] = x\n",
    "        \n",
    "    def pop(self):\n",
    "        if self.isNull():\n",
    "            print('error! pop!')\n",
    "            return False\n",
    "        x = self.S[self.top]\n",
    "        self.top -= 1\n",
    "        return x"
   ]
  },
  {
   "cell_type": "code",
   "execution_count": 239,
   "metadata": {
    "collapsed": false
   },
   "outputs": [
    {
     "name": "stdout",
     "output_type": "stream",
     "text": [
      "1\n",
      "4\n",
      "6\n",
      "7\n",
      "8\n",
      "12\n",
      "13\n",
      "16\n",
      "26\n",
      "27\n",
      "28\n",
      "35\n",
      "5 4 2 1 19 9 "
     ]
    }
   ],
   "source": [
    "string = r'\\\\///\\_/\\/\\\\\\\\/_/\\\\///__\\\\\\_\\\\/_\\/_/\\/'\n",
    "string = string[:-1] # 最後の/は、エスケープシーケンスエラー対策のために付け加えたので削除している\n",
    "\n",
    "stack = []\n",
    "stack2 = [(-1, -1)] #ダミーを一つ初期作成\n",
    "area = 0\n",
    "\n",
    "for i, s in enumerate(string):\n",
    "    #print(s, i)\n",
    "    if s == '\\\\':\n",
    "        stack.append(i)\n",
    "    elif s == '_':\n",
    "        pass\n",
    "    elif s == '/' : \n",
    "        if len(stack) != 0:\n",
    "            top = stack.pop()\n",
    "            a = i - top\n",
    "            area += a\n",
    "            print(area)\n",
    "            while stack2[-1][0] != -1 and stack2[-1][0] > top:\n",
    "                a += stack2[-1][1]; stack2.pop()\n",
    "            stack2.append((top, a))\n",
    "        \n",
    "count = len(stack2) - 1 #ダミー分マイナス\n",
    "print(count, end=\" \")\n",
    "for i in range(count):\n",
    "    print(stack2[i+1][1], end = \" \")"
   ]
  },
  {
   "cell_type": "code",
   "execution_count": 236,
   "metadata": {
    "collapsed": false
   },
   "outputs": [
    {
     "data": {
      "text/plain": [
       "[(0, 4), (5, 2), (8, 1), (11, 19), (28, 9)]"
      ]
     },
     "execution_count": 236,
     "metadata": {},
     "output_type": "execute_result"
    }
   ],
   "source": [
    "stack2[1:]"
   ]
  },
  {
   "cell_type": "code",
   "execution_count": 232,
   "metadata": {
    "collapsed": false
   },
   "outputs": [],
   "source": [
    "a = [1]"
   ]
  },
  {
   "cell_type": "code",
   "execution_count": 233,
   "metadata": {
    "collapsed": false
   },
   "outputs": [
    {
     "data": {
      "text/plain": [
       "1"
      ]
     },
     "execution_count": 233,
     "metadata": {},
     "output_type": "execute_result"
    }
   ],
   "source": [
    "a[-1]"
   ]
  },
  {
   "cell_type": "code",
   "execution_count": null,
   "metadata": {
    "collapsed": true
   },
   "outputs": [],
   "source": []
  }
 ],
 "metadata": {
  "anaconda-cloud": {},
  "kernelspec": {
   "display_name": "Python [conda env:py36]",
   "language": "python",
   "name": "conda-env-py36-py"
  },
  "language_info": {
   "codemirror_mode": {
    "name": "ipython",
    "version": 3
   },
   "file_extension": ".py",
   "mimetype": "text/x-python",
   "name": "python",
   "nbconvert_exporter": "python",
   "pygments_lexer": "ipython3",
   "version": "3.6.1"
  }
 },
 "nbformat": 4,
 "nbformat_minor": 1
}
